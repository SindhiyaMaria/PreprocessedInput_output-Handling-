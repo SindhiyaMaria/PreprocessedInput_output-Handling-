{
 "cells": [
  {
   "cell_type": "code",
   "execution_count": 8,
   "id": "77381340",
   "metadata": {},
   "outputs": [],
   "source": [
    "import pandas as pd\n",
    "from sklearn.preprocessing import StandardScaler\n",
    "import pickle\n",
    "\n",
    "# Load the dataset\n",
    "dataset = pd.read_csv(\"50_Startups.csv\")\n",
    "\n",
    "# Perform one-hot encoding\n",
    "dataset = pd.get_dummies(dataset, drop_first=True)\n",
    "\n",
    "# Separate independent and dependent variables\n",
    "X = dataset[['R&D Spend', 'Administration', 'Marketing Spend', 'State_Florida', 'State_New York']]\n",
    "y = dataset['Profit']\n",
    "\n",
    "# Initialize the StandardScaler\n",
    "scaler = StandardScaler()\n",
    "\n",
    "# Fit and transform the scaler on the independent variables\n",
    "X_scaled = scaler.fit_transform(X)\n",
    "\n",
    "# Save the trained scaler object using pickle\n",
    "with open(\"standard_scaler.sav\", \"wb\") as file:\n",
    "    pickle.dump(scaler, file)\n"
   ]
  },
  {
   "cell_type": "code",
   "execution_count": 9,
   "id": "48d98413",
   "metadata": {},
   "outputs": [
    {
     "name": "stdout",
     "output_type": "stream",
     "text": [
      "Predicted Profit: [107478.28418436]\n"
     ]
    }
   ],
   "source": [
    "import pickle\n",
    "import pandas as pd\n",
    "\n",
    "# Load the StandardScaler object\n",
    "scaler = pickle.load(open(\"standard_scaler.sav\", \"rb\"))\n",
    "\n",
    "# Preprocess the input\n",
    "preprocessed_input = scaler.transform([[1300, 12000, 4000, 0, 1]])\n",
    "\n",
    "# Use the preprocessed input for prediction\n",
    "loaded_model = pickle.load(open(\"finalized_model_svr.sav\", \"rb\"))\n",
    "result = loaded_model.predict(preprocessed_input)\n",
    "\n",
    "print(\"Predicted Profit:\", result)\n"
   ]
  },
  {
   "cell_type": "code",
   "execution_count": null,
   "id": "f99cb893",
   "metadata": {},
   "outputs": [],
   "source": []
  }
 ],
 "metadata": {
  "kernelspec": {
   "display_name": "Python 3 (ipykernel)",
   "language": "python",
   "name": "python3"
  },
  "language_info": {
   "codemirror_mode": {
    "name": "ipython",
    "version": 3
   },
   "file_extension": ".py",
   "mimetype": "text/x-python",
   "name": "python",
   "nbconvert_exporter": "python",
   "pygments_lexer": "ipython3",
   "version": "3.9.7"
  }
 },
 "nbformat": 4,
 "nbformat_minor": 5
}
