{
 "cells": [
  {
   "cell_type": "code",
   "execution_count": 3,
   "id": "8fbd2980",
   "metadata": {},
   "outputs": [],
   "source": [
    "import pandas as pd\n",
    "from sklearn.preprocessing import StandardScaler\n",
    "import pickle\n",
    "\n",
    "# Load the dataset\n",
    "dataset = pd.read_csv(\"50_Startups.csv\")\n",
    "dataset = pd.get_dummies(dataset, drop_first=True)\n",
    "\n",
    "# Separate independent and dependent variables\n",
    "X = dataset[['R&D Spend', 'Administration', 'Marketing Spend', 'State_Florida', 'State_New York']]\n",
    "y = dataset['Profit']\n",
    "\n",
    "# Initialize and fit StandardScaler for input features\n",
    "sc = StandardScaler()\n",
    "X_scaled = sc.fit_transform(X)\n",
    "\n",
    "# Initialize and fit StandardScaler for output feature\n",
    "scy = StandardScaler()\n",
    "y_scaled = scy.fit_transform(y.values.reshape(-1, 1))\n",
    "\n",
    "# Save the StandardScaler objects using pickle\n",
    "with open(\"scaler_input.sav\", \"wb\") as file:\n",
    "    pickle.dump(sc, file)\n",
    "\n",
    "with open(\"scaler_output.sav\", \"wb\") as file:\n",
    "    pickle.dump(scy, file)\n",
    "\n",
    "# Further processing or model training can follow here\n"
   ]
  },
  {
   "cell_type": "code",
   "execution_count": 4,
   "id": "01015f5a",
   "metadata": {},
   "outputs": [
    {
     "name": "stdout",
     "output_type": "stream",
     "text": [
      "Predicted Profit: [[62924.46797479]]\n"
     ]
    }
   ],
   "source": [
    "import pandas as pd\n",
    "from sklearn.preprocessing import StandardScaler\n",
    "import pickle\n",
    "\n",
    "# Load the dataset\n",
    "dataset = pd.read_csv(\"50_Startups.csv\")\n",
    "dataset = pd.get_dummies(dataset, drop_first=True)\n",
    "\n",
    "# Separate independent and dependent variables\n",
    "X = dataset[['R&D Spend', 'Administration', 'Marketing Spend', 'State_Florida', 'State_New York']]\n",
    "y = dataset['Profit']\n",
    "\n",
    "# Load the pre-trained StandardScaler objects\n",
    "with open(\"scaler_input.sav\", \"rb\") as file:\n",
    "    sc = pickle.load(file)\n",
    "\n",
    "with open(\"scaler_output.sav\", \"rb\") as file:\n",
    "    scy = pickle.load(file)\n",
    "\n",
    "# Transform the new input data\n",
    "new_input = [[1300, 12000, 4000, 0, 1]]\n",
    "new_input_scaled = sc.transform(new_input)\n",
    "\n",
    "# Load the trained model\n",
    "loaded_model = pickle.load(open(\"finalized_model_svr.sav\", 'rb'))\n",
    "\n",
    "# Predict the output\n",
    "result_scaled = loaded_model.predict(new_input_scaled)\n",
    "\n",
    "# Transform the predicted output back to original scale\n",
    "result = scy.inverse_transform([result_scaled])\n",
    "\n",
    "print(\"Predicted Profit:\", result)\n"
   ]
  },
  {
   "cell_type": "code",
   "execution_count": null,
   "id": "70821958",
   "metadata": {},
   "outputs": [],
   "source": []
  }
 ],
 "metadata": {
  "kernelspec": {
   "display_name": "Python 3 (ipykernel)",
   "language": "python",
   "name": "python3"
  },
  "language_info": {
   "codemirror_mode": {
    "name": "ipython",
    "version": 3
   },
   "file_extension": ".py",
   "mimetype": "text/x-python",
   "name": "python",
   "nbconvert_exporter": "python",
   "pygments_lexer": "ipython3",
   "version": "3.9.7"
  }
 },
 "nbformat": 4,
 "nbformat_minor": 5
}
